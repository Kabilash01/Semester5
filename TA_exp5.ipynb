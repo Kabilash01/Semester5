{
 "cells": [
  {
   "cell_type": "code",
   "execution_count": 2,
   "id": "21519562",
   "metadata": {},
   "outputs": [
    {
     "name": "stdout",
     "output_type": "stream",
     "text": [
      "Requirement already satisfied: regex in c:\\users\\aida-lab\\appdata\\local\\packages\\pythonsoftwarefoundation.python.3.11_qbz5n2kfra8p0\\localcache\\local-packages\\python311\\site-packages (2024.11.6)\n"
     ]
    },
    {
     "name": "stderr",
     "output_type": "stream",
     "text": [
      "\n",
      "[notice] A new release of pip is available: 24.0 -> 25.2\n",
      "[notice] To update, run: C:\\Users\\aida-lab\\AppData\\Local\\Microsoft\\WindowsApps\\PythonSoftwareFoundation.Python.3.11_qbz5n2kfra8p0\\python.exe -m pip install --upgrade pip\n"
     ]
    }
   ],
   "source": [
    "!pip install regex"
   ]
  },
  {
   "cell_type": "code",
   "execution_count": 4,
   "id": "00f71727",
   "metadata": {},
   "outputs": [
    {
     "name": "stdout",
     "output_type": "stream",
     "text": [
      "{'Phone': '9876543210', 'Email': 'dheepakunpaidintern@gmail.com', 'Address': '123 Main Street, Springfield, USA'}\n"
     ]
    }
   ],
   "source": [
    "import re\n",
    "\n",
    "def extract_user_info(text):\n",
    "    phone_pattern = r\"(?<=Phone: )[+]?[0-9\\s()-]{7,15}(?=\\s|$)\"\n",
    "    email_pattern = r\"(?<=Email: )[\\w._%+-]+@[\\w.-]+\\.[a-zA-Z]{2,}(?=\\s|$)\"\n",
    "    address_pattern = r\"(?<=Address: ).*?(?=\\n|$)\"  # Assumes address ends at newline or end of text\n",
    "\n",
    "\n",
    "    phone_match = re.search(phone_pattern, text)\n",
    "    phone = phone_match.group(0) if phone_match else None\n",
    "    email_match = re.search(email_pattern, text)\n",
    "    email = email_match.group(0) if email_match else None\n",
    "    address_match = re.search(address_pattern, text)\n",
    "    address = address_match.group(0) if address_match else None\n",
    "\n",
    "    return {\n",
    "        \"Phone\": phone,\n",
    "        \"Email\": email,\n",
    "        \"Address\": address\n",
    "    }\n",
    "text = \"\"\"\n",
    "Name: Dheepak Unpaid Intern\n",
    "Phone: 9876543210\n",
    "Email: dheepakunpaidintern@gmail.com\n",
    "Address: 123 Main Street, Springfield, USA\n",
    "\"\"\"\n",
    "\n",
    "user_info = extract_user_info(text)\n",
    "print(user_info)"
   ]
  },
  {
   "cell_type": "code",
   "execution_count": null,
   "id": "46ae4a22",
   "metadata": {},
   "outputs": [],
   "source": []
  }
 ],
 "metadata": {
  "kernelspec": {
   "display_name": "Python 3",
   "language": "python",
   "name": "python3"
  },
  "language_info": {
   "codemirror_mode": {
    "name": "ipython",
    "version": 3
   },
   "file_extension": ".py",
   "mimetype": "text/x-python",
   "name": "python",
   "nbconvert_exporter": "python",
   "pygments_lexer": "ipython3",
   "version": "3.11.9"
  }
 },
 "nbformat": 4,
 "nbformat_minor": 5
}
