{
 "cells": [
  {
   "cell_type": "code",
   "execution_count": 1,
   "id": "91d6c8c2",
   "metadata": {},
   "outputs": [],
   "source": [
    "import nltk"
   ]
  },
  {
   "cell_type": "code",
   "execution_count": 2,
   "id": "159078ba",
   "metadata": {},
   "outputs": [],
   "source": [
    "import nltk\n",
    "from nltk.corpus import stopwords\n",
    "from nltk.tokenize import word_tokenize\n",
    "from nltk.stem import PorterStemmer, WordNetLemmatizer"
   ]
  },
  {
   "cell_type": "code",
   "execution_count": 4,
   "id": "6f1a1933",
   "metadata": {},
   "outputs": [
    {
     "name": "stderr",
     "output_type": "stream",
     "text": [
      "[nltk_data] Downloading package punkt_tab to C:\\Users\\aida-\n",
      "[nltk_data]     lab\\AppData\\Roaming\\nltk_data...\n",
      "[nltk_data]   Unzipping tokenizers\\punkt_tab.zip.\n",
      "[nltk_data] Downloading package stopwords to C:\\Users\\aida-\n",
      "[nltk_data]     lab\\AppData\\Roaming\\nltk_data...\n",
      "[nltk_data]   Package stopwords is already up-to-date!\n",
      "[nltk_data] Downloading package wordnet to C:\\Users\\aida-\n",
      "[nltk_data]     lab\\AppData\\Roaming\\nltk_data...\n",
      "[nltk_data]   Package wordnet is already up-to-date!\n"
     ]
    },
    {
     "data": {
      "text/plain": [
       "True"
      ]
     },
     "execution_count": 4,
     "metadata": {},
     "output_type": "execute_result"
    }
   ],
   "source": [
    "#reired NLTK files  \n",
    "\n",
    "nltk.download('punkt_tab')\n",
    "nltk.download('stopwords')\n",
    "nltk.download('wordnet')"
   ]
  },
  {
   "cell_type": "code",
   "execution_count": 6,
   "id": "f27162b1",
   "metadata": {},
   "outputs": [],
   "source": [
    "\n",
    "\n",
    " text=\"This page uses instructions with pip, the recommended installation tool for Python. If you require environment management as opposed to just installation, look into conda, mamba, pipenv, and Homebrew\""
   ]
  },
  {
   "cell_type": "code",
   "execution_count": 7,
   "id": "75dedf95",
   "metadata": {},
   "outputs": [],
   "source": [
    "tokens=word_tokenize(text.lower())"
   ]
  },
  {
   "cell_type": "code",
   "execution_count": 9,
   "id": "675acc23",
   "metadata": {},
   "outputs": [],
   "source": [
    "stop_words = set(stopwords.words('english'))\n",
    "filtered_tokens = [word for word in tokens if tokens if word.isalpha() and word not in stop_words]"
   ]
  },
  {
   "cell_type": "code",
   "execution_count": 11,
   "id": "728eefb5",
   "metadata": {},
   "outputs": [],
   "source": [
    "stemmer=PorterStemmer()\n",
    "stemmer_tokens=[stemmer.stem(word) for word in filtered_tokens]"
   ]
  },
  {
   "cell_type": "code",
   "execution_count": 17,
   "id": "327c081c",
   "metadata": {},
   "outputs": [],
   "source": [
    "lemmantizer=WordNetLemmatizer()\n",
    "lemmantized_tokens=[lemmantizer.lemmatize(word) for word in filtered_tokens]"
   ]
  },
  {
   "cell_type": "code",
   "execution_count": 20,
   "id": "1b466e59",
   "metadata": {},
   "outputs": [
    {
     "name": "stdout",
     "output_type": "stream",
     "text": [
      "['this', 'page', 'uses', 'instructions', 'with', 'pip', ',', 'the', 'recommended', 'installation', 'tool', 'for', 'python', '.', 'if', 'you', 'require', 'environment', 'management', 'as', 'opposed', 'to', 'just', 'installation', ',', 'look', 'into', 'conda', ',', 'mamba', ',', 'pipenv', ',', 'and', 'homebrew']\n",
      "['page', 'uses', 'instructions', 'pip', 'recommended', 'installation', 'tool', 'python', 'require', 'environment', 'management', 'opposed', 'installation', 'look', 'conda', 'mamba', 'pipenv', 'homebrew']\n",
      "['page', 'use', 'instruct', 'pip', 'recommend', 'instal', 'tool', 'python', 'requir', 'environ', 'manag', 'oppos', 'instal', 'look', 'conda', 'mamba', 'pipenv', 'homebrew']\n",
      "['page', 'us', 'instruction', 'pip', 'recommended', 'installation', 'tool', 'python', 'require', 'environment', 'management', 'opposed', 'installation', 'look', 'conda', 'mamba', 'pipenv', 'homebrew']\n"
     ]
    }
   ],
   "source": [
    "print(tokens)\n",
    "print (filtered_tokens)\n",
    "print(stemmer_tokens)\n",
    "print(lemmantized_tokens)"
   ]
  },
  {
   "cell_type": "code",
   "execution_count": 30,
   "id": "41429969",
   "metadata": {},
   "outputs": [],
   "source": [
    "#spacy \n",
    "import spacy"
   ]
  },
  {
   "cell_type": "code",
   "execution_count": 36,
   "id": "104adb0a",
   "metadata": {},
   "outputs": [
    {
     "ename": "TypeError",
     "evalue": "'str' object is not callable",
     "output_type": "error",
     "traceback": [
      "\u001b[31m---------------------------------------------------------------------------\u001b[39m",
      "\u001b[31mTypeError\u001b[39m                                 Traceback (most recent call last)",
      "\u001b[36mCell\u001b[39m\u001b[36m \u001b[39m\u001b[32mIn[36]\u001b[39m\u001b[32m, line 5\u001b[39m\n\u001b[32m      1\u001b[39m \u001b[38;5;28;01mimport\u001b[39;00m\u001b[38;5;250m \u001b[39m\u001b[34;01mspacy\u001b[39;00m\n\u001b[32m      3\u001b[39m \u001b[38;5;66;03m# Load a spaCy language model (e.g., 'en_core_web_sm')\u001b[39;00m\n\u001b[32m      4\u001b[39m \u001b[38;5;66;03m# You might need to download it first using: python -m spacy download en_core_web_sm\u001b[39;00m\n\u001b[32m----> \u001b[39m\u001b[32m5\u001b[39m nlp = \u001b[43mspacy\u001b[49m\u001b[43m.\u001b[49m\u001b[43mload\u001b[49m\u001b[43m(\u001b[49m\u001b[33;43m'\u001b[39;49m\u001b[33;43men_core_web_sm\u001b[39;49m\u001b[33;43m'\u001b[39;49m\u001b[43m)\u001b[49m\n",
      "\u001b[31mTypeError\u001b[39m: 'str' object is not callable"
     ]
    }
   ],
   "source": [
    "import spacy\n",
    "\n",
    "# Load a spaCy language model (e.g., 'en_core_web_sm')\n",
    "# You might need to download it first using: python -m spacy download en_core_web_sm\n",
    "nlp = spacy.load('en_core_web_sm')\n"
   ]
  },
  {
   "cell_type": "code",
   "execution_count": null,
   "id": "6a309bdf",
   "metadata": {},
   "outputs": [],
   "source": [
    "text=\"A story is a narrative, either true or fictional, that recounts a series of events, often with the purpose of entertaining, educating, or conveying a message. Stories can be shared orally, written down, or presented through various media like film or theater.\""
   ]
  },
  {
   "cell_type": "code",
   "execution_count": 39,
   "id": "9c5f04bc",
   "metadata": {},
   "outputs": [
    {
     "ename": "TypeError",
     "evalue": "'str' object is not callable",
     "output_type": "error",
     "traceback": [
      "\u001b[31m---------------------------------------------------------------------------\u001b[39m",
      "\u001b[31mTypeError\u001b[39m                                 Traceback (most recent call last)",
      "\u001b[36mCell\u001b[39m\u001b[36m \u001b[39m\u001b[32mIn[39]\u001b[39m\u001b[32m, line 1\u001b[39m\n\u001b[32m----> \u001b[39m\u001b[32m1\u001b[39m doc= \u001b[43mnlp\u001b[49m\u001b[43m \u001b[49m\u001b[43m(\u001b[49m\u001b[43mtext\u001b[49m\u001b[43m)\u001b[49m\n",
      "\u001b[31mTypeError\u001b[39m: 'str' object is not callable"
     ]
    }
   ],
   "source": [
    "doc= nlp (text)"
   ]
  },
  {
   "cell_type": "code",
   "execution_count": 40,
   "id": "4ef6c285",
   "metadata": {},
   "outputs": [
    {
     "ename": "NameError",
     "evalue": "name 'doc' is not defined",
     "output_type": "error",
     "traceback": [
      "\u001b[31m---------------------------------------------------------------------------\u001b[39m",
      "\u001b[31mNameError\u001b[39m                                 Traceback (most recent call last)",
      "\u001b[36mCell\u001b[39m\u001b[36m \u001b[39m\u001b[32mIn[40]\u001b[39m\u001b[32m, line 1\u001b[39m\n\u001b[32m----> \u001b[39m\u001b[32m1\u001b[39m tokens_no_stop=[token.text \u001b[38;5;28;01mfor\u001b[39;00m token \u001b[38;5;129;01min\u001b[39;00m \u001b[43mdoc\u001b[49m \u001b[38;5;28;01mif\u001b[39;00m \u001b[38;5;129;01mnot\u001b[39;00m token.is_stop \u001b[38;5;129;01mand\u001b[39;00m token.is_alpha]\n",
      "\u001b[31mNameError\u001b[39m: name 'doc' is not defined"
     ]
    }
   ],
   "source": [
    "tokens_no_stop=[token.text for token in doc if not token.is_stop and token.is_alpha]"
   ]
  },
  {
   "cell_type": "code",
   "execution_count": null,
   "id": "ff0470f9",
   "metadata": {},
   "outputs": [],
   "source": [
    "lemmatized_tokens=[token.lemma_ for token in doc if not token.is_stop and token.is_alpha]"
   ]
  },
  {
   "cell_type": "code",
   "execution_count": null,
   "id": "71fb922e",
   "metadata": {},
   "outputs": [],
   "source": [
    "\n",
    "print(tokens_no_stop)\n",
    "print(lemmatized_tokens)\n",
    "print(tokens)"
   ]
  }
 ],
 "metadata": {
  "kernelspec": {
   "display_name": "Python 3",
   "language": "python",
   "name": "python3"
  },
  "language_info": {
   "codemirror_mode": {
    "name": "ipython",
    "version": 3
   },
   "file_extension": ".py",
   "mimetype": "text/x-python",
   "name": "python",
   "nbconvert_exporter": "python",
   "pygments_lexer": "ipython3",
   "version": "3.11.9"
  }
 },
 "nbformat": 4,
 "nbformat_minor": 5
}
